{
  "nbformat": 4,
  "nbformat_minor": 0,
  "metadata": {
    "colab": {
      "name": "ai-entrance-exam-machine-learning.ipynb",
      "provenance": [],
      "collapsed_sections": [],
      "authorship_tag": "ABX9TyNTGN0FsENGS77aRo/g2GgO",
      "include_colab_link": true
    },
    "kernelspec": {
      "name": "python3",
      "display_name": "Python 3"
    },
    "language_info": {
      "name": "python"
    }
  },
  "cells": [
    {
      "cell_type": "markdown",
      "metadata": {
        "id": "view-in-github",
        "colab_type": "text"
      },
      "source": [
        "<a href=\"https://colab.research.google.com/github/AmirHoseein99/Ai-Entrance-Exam/blob/master/machine_learning/Machine_Learning.ipynb\" target=\"_parent\"><img src=\"https://colab.research.google.com/assets/colab-badge.svg\" alt=\"Open In Colab\"/></a>"
      ]
    },
    {
      "cell_type": "code",
      "source": [
        "! wget \"https://raw.githubusercontent.com/ishan-open/ai-entrance-exam/main/machine-learning/data.csv\""
      ],
      "metadata": {
        "id": "mXPzCUVwn2ii"
      },
      "execution_count": null,
      "outputs": []
    },
    {
      "cell_type": "code",
      "execution_count": null,
      "metadata": {
        "id": "BYNP8kUrnjRH"
      },
      "outputs": [],
      "source": [
        "import numpy as np\n",
        "import pandas as pd\n",
        "import seaborn as sns\n",
        "import tensorflow as tf\n",
        "from tensorflow import keras\n",
        "from matplotlib import pyplot as plt\n",
        "from sklearn.preprocessing import LabelEncoder\n",
        "from sklearn.model_selection import train_test_split\n",
        "from tensorflow.keras.preprocessing.text import Tokenizer\n",
        "from tensorflow.keras.preprocessing.sequence import pad_sequences"
      ]
    },
    {
      "cell_type": "code",
      "source": [
        "data = pd.read_csv(\"/content/data.csv\")\n",
        "print(data.shape)\n",
        "data.head()"
      ],
      "metadata": {
        "id": "pg3yxpuuoRUR",
        "colab": {
          "base_uri": "https://localhost:8080/",
          "height": 224
        },
        "outputId": "0817e247-8904-4db2-b4d9-0ba1cab5861b"
      },
      "execution_count": null,
      "outputs": [
        {
          "output_type": "stream",
          "name": "stdout",
          "text": [
            "(2651, 2)\n"
          ]
        },
        {
          "output_type": "execute_result",
          "data": {
            "text/plain": [
              "                                            question  label\n",
              "0                         طارند بالا ، چه چیزی  است؟      1\n",
              "1             طارند بالا ، روستایی از توابع کجا است؟      1\n",
              "2   طارند بالا ، روستایی از توابع کجا در استان ته...      1\n",
              "3   طارند بالا ، روستایی از توابع بخش جلیل آباد ش...      1\n",
              "4               کجا روستایی در استان تهران ایران است      1"
            ],
            "text/html": [
              "\n",
              "  <div id=\"df-f901698f-1d85-4284-a8d0-bb80c0f63c53\">\n",
              "    <div class=\"colab-df-container\">\n",
              "      <div>\n",
              "<style scoped>\n",
              "    .dataframe tbody tr th:only-of-type {\n",
              "        vertical-align: middle;\n",
              "    }\n",
              "\n",
              "    .dataframe tbody tr th {\n",
              "        vertical-align: top;\n",
              "    }\n",
              "\n",
              "    .dataframe thead th {\n",
              "        text-align: right;\n",
              "    }\n",
              "</style>\n",
              "<table border=\"1\" class=\"dataframe\">\n",
              "  <thead>\n",
              "    <tr style=\"text-align: right;\">\n",
              "      <th></th>\n",
              "      <th>question</th>\n",
              "      <th>label</th>\n",
              "    </tr>\n",
              "  </thead>\n",
              "  <tbody>\n",
              "    <tr>\n",
              "      <th>0</th>\n",
              "      <td>طارند بالا ، چه چیزی  است؟</td>\n",
              "      <td>1</td>\n",
              "    </tr>\n",
              "    <tr>\n",
              "      <th>1</th>\n",
              "      <td>طارند بالا ، روستایی از توابع کجا است؟</td>\n",
              "      <td>1</td>\n",
              "    </tr>\n",
              "    <tr>\n",
              "      <th>2</th>\n",
              "      <td>طارند بالا ، روستایی از توابع کجا در استان ته...</td>\n",
              "      <td>1</td>\n",
              "    </tr>\n",
              "    <tr>\n",
              "      <th>3</th>\n",
              "      <td>طارند بالا ، روستایی از توابع بخش جلیل آباد ش...</td>\n",
              "      <td>1</td>\n",
              "    </tr>\n",
              "    <tr>\n",
              "      <th>4</th>\n",
              "      <td>کجا روستایی در استان تهران ایران است</td>\n",
              "      <td>1</td>\n",
              "    </tr>\n",
              "  </tbody>\n",
              "</table>\n",
              "</div>\n",
              "      <button class=\"colab-df-convert\" onclick=\"convertToInteractive('df-f901698f-1d85-4284-a8d0-bb80c0f63c53')\"\n",
              "              title=\"Convert this dataframe to an interactive table.\"\n",
              "              style=\"display:none;\">\n",
              "        \n",
              "  <svg xmlns=\"http://www.w3.org/2000/svg\" height=\"24px\"viewBox=\"0 0 24 24\"\n",
              "       width=\"24px\">\n",
              "    <path d=\"M0 0h24v24H0V0z\" fill=\"none\"/>\n",
              "    <path d=\"M18.56 5.44l.94 2.06.94-2.06 2.06-.94-2.06-.94-.94-2.06-.94 2.06-2.06.94zm-11 1L8.5 8.5l.94-2.06 2.06-.94-2.06-.94L8.5 2.5l-.94 2.06-2.06.94zm10 10l.94 2.06.94-2.06 2.06-.94-2.06-.94-.94-2.06-.94 2.06-2.06.94z\"/><path d=\"M17.41 7.96l-1.37-1.37c-.4-.4-.92-.59-1.43-.59-.52 0-1.04.2-1.43.59L10.3 9.45l-7.72 7.72c-.78.78-.78 2.05 0 2.83L4 21.41c.39.39.9.59 1.41.59.51 0 1.02-.2 1.41-.59l7.78-7.78 2.81-2.81c.8-.78.8-2.07 0-2.86zM5.41 20L4 18.59l7.72-7.72 1.47 1.35L5.41 20z\"/>\n",
              "  </svg>\n",
              "      </button>\n",
              "      \n",
              "  <style>\n",
              "    .colab-df-container {\n",
              "      display:flex;\n",
              "      flex-wrap:wrap;\n",
              "      gap: 12px;\n",
              "    }\n",
              "\n",
              "    .colab-df-convert {\n",
              "      background-color: #E8F0FE;\n",
              "      border: none;\n",
              "      border-radius: 50%;\n",
              "      cursor: pointer;\n",
              "      display: none;\n",
              "      fill: #1967D2;\n",
              "      height: 32px;\n",
              "      padding: 0 0 0 0;\n",
              "      width: 32px;\n",
              "    }\n",
              "\n",
              "    .colab-df-convert:hover {\n",
              "      background-color: #E2EBFA;\n",
              "      box-shadow: 0px 1px 2px rgba(60, 64, 67, 0.3), 0px 1px 3px 1px rgba(60, 64, 67, 0.15);\n",
              "      fill: #174EA6;\n",
              "    }\n",
              "\n",
              "    [theme=dark] .colab-df-convert {\n",
              "      background-color: #3B4455;\n",
              "      fill: #D2E3FC;\n",
              "    }\n",
              "\n",
              "    [theme=dark] .colab-df-convert:hover {\n",
              "      background-color: #434B5C;\n",
              "      box-shadow: 0px 1px 3px 1px rgba(0, 0, 0, 0.15);\n",
              "      filter: drop-shadow(0px 1px 2px rgba(0, 0, 0, 0.3));\n",
              "      fill: #FFFFFF;\n",
              "    }\n",
              "  </style>\n",
              "\n",
              "      <script>\n",
              "        const buttonEl =\n",
              "          document.querySelector('#df-f901698f-1d85-4284-a8d0-bb80c0f63c53 button.colab-df-convert');\n",
              "        buttonEl.style.display =\n",
              "          google.colab.kernel.accessAllowed ? 'block' : 'none';\n",
              "\n",
              "        async function convertToInteractive(key) {\n",
              "          const element = document.querySelector('#df-f901698f-1d85-4284-a8d0-bb80c0f63c53');\n",
              "          const dataTable =\n",
              "            await google.colab.kernel.invokeFunction('convertToInteractive',\n",
              "                                                     [key], {});\n",
              "          if (!dataTable) return;\n",
              "\n",
              "          const docLinkHtml = 'Like what you see? Visit the ' +\n",
              "            '<a target=\"_blank\" href=https://colab.research.google.com/notebooks/data_table.ipynb>data table notebook</a>'\n",
              "            + ' to learn more about interactive tables.';\n",
              "          element.innerHTML = '';\n",
              "          dataTable['output_type'] = 'display_data';\n",
              "          await google.colab.output.renderOutput(dataTable, element);\n",
              "          const docLink = document.createElement('div');\n",
              "          docLink.innerHTML = docLinkHtml;\n",
              "          element.appendChild(docLink);\n",
              "        }\n",
              "      </script>\n",
              "    </div>\n",
              "  </div>\n",
              "  "
            ]
          },
          "metadata": {},
          "execution_count": 3
        }
      ]
    },
    {
      "cell_type": "code",
      "source": [
        "data.info()"
      ],
      "metadata": {
        "id": "FT_PeGWSodFq",
        "colab": {
          "base_uri": "https://localhost:8080/"
        },
        "outputId": "f99ebe28-7898-46a8-cc0d-5e0960021532"
      },
      "execution_count": null,
      "outputs": [
        {
          "output_type": "stream",
          "name": "stdout",
          "text": [
            "<class 'pandas.core.frame.DataFrame'>\n",
            "RangeIndex: 2651 entries, 0 to 2650\n",
            "Data columns (total 2 columns):\n",
            " #   Column    Non-Null Count  Dtype \n",
            "---  ------    --------------  ----- \n",
            " 0   question  2651 non-null   object\n",
            " 1   label     2651 non-null   int64 \n",
            "dtypes: int64(1), object(1)\n",
            "memory usage: 41.5+ KB\n"
          ]
        }
      ]
    },
    {
      "cell_type": "code",
      "source": [
        "questions = data.question.to_numpy()\n",
        "labels = data.label.to_numpy()\n",
        "labels = [0 if(label) == -1 else label for label in labels]"
      ],
      "metadata": {
        "id": "ceK3sD_ZsjXG"
      },
      "execution_count": null,
      "outputs": []
    },
    {
      "cell_type": "code",
      "source": [
        "_ = sns.histplot(labels)"
      ],
      "metadata": {
        "colab": {
          "base_uri": "https://localhost:8080/",
          "height": 265
        },
        "id": "FXzJPM3Wssr0",
        "outputId": "b18362f6-90fb-48cd-fced-6f71720cc561"
      },
      "execution_count": null,
      "outputs": [
        {
          "output_type": "display_data",
          "data": {
            "text/plain": [
              "<Figure size 432x288 with 1 Axes>"
            ],
            "image/png": "[encoded data removed]"
          },
          "metadata": {
            "needs_background": "light"
          }
        }
      ]
    },
    {
      "cell_type": "code",
      "source": [
        "Question_tokens = Tokenizer()\n",
        "Question_tokens.fit_on_texts(questions)\n",
        "encoded_questions = np.array(Question_tokens.texts_to_sequences(questions), dtype=object)\n",
        "word_index = Question_tokens.word_index\n",
        "vocab = np.array(list(word_index.keys()))\n",
        "vocab_size = len(vocab)\n",
        "print(\"Number fo Unique Tokens is : \", vocab_size)"
      ],
      "metadata": {
        "colab": {
          "base_uri": "https://localhost:8080/"
        },
        "id": "VSanwebEsvFU",
        "outputId": "272be88a-da54-48d4-81e0-63017b16c840"
      },
      "execution_count": null,
      "outputs": [
        {
          "output_type": "stream",
          "name": "stdout",
          "text": [
            "Number fo Unique Tokens is :  1750\n"
          ]
        }
      ]
    },
    {
      "cell_type": "code",
      "source": [
        "all_tokens = np.array([token for questions in encoded_questions for token in  questions])\n",
        "all_tokens.shape"
      ],
      "metadata": {
        "colab": {
          "base_uri": "https://localhost:8080/"
        },
        "id": "4zfhGPJ-tvhE",
        "outputId": "7c6b168b-94c8-4013-ed1e-2f4ab4e926ba"
      },
      "execution_count": null,
      "outputs": [
        {
          "output_type": "execute_result",
          "data": {
            "text/plain": [
              "(35228,)"
            ]
          },
          "metadata": {},
          "execution_count": 8
        }
      ]
    },
    {
      "cell_type": "code",
      "source": [
        "values, counts = np.unique(all_tokens, return_counts=True)\n",
        "top_values = values[:20]\n",
        "top_vlaues_counts = counts[:20]\n",
        "print(\"Most Common Tokens are : \", Question_tokens.sequences_to_texts([top_values])[0])\n",
        "_ = plt.figure(figsize=(20, 5))\n",
        "_ = sns.barplot(x=top_values, y=top_vlaues_counts)"
      ],
      "metadata": {
        "colab": {
          "base_uri": "https://localhost:8080/",
          "height": 337
        },
        "id": "HkjIXnp2tx_b",
        "outputId": "1b9af7c0-6190-4378-f1db-18b118d54359"
      },
      "execution_count": null,
      "outputs": [
        {
          "output_type": "stream",
          "name": "stdout",
          "text": [
            "Most Common Tokens are :  است در کجا چه از و یک که است؟ کسی شهرستان استان ایران روستایی بخش توابع شده ، واقع به\n"
          ]
        },
        {
          "output_type": "display_data",
          "data": {
            "text/plain": [
              "<Figure size 1440x360 with 1 Axes>"
            ],
            "image/png": "[encoded data removed]"
          },
          "metadata": {
            "needs_background": "light"
          }
        }
      ]
    },
    {
      "cell_type": "code",
      "source": [
        "lengths=[]\n",
        "for k in range(len(encoded_questions)):\n",
        "  lengths.append(len(encoded_questions[k]))\n",
        "pd.DataFrame(lengths, columns=['Lenghts']).describe()"
      ],
      "metadata": {
        "colab": {
          "base_uri": "https://localhost:8080/",
          "height": 300
        },
        "id": "G5LGcpnBt9Sb",
        "outputId": "9dd9816f-66b4-4444-d094-847ab604c5d0"
      },
      "execution_count": null,
      "outputs": [
        {
          "output_type": "execute_result",
          "data": {
            "text/plain": [
              "           Lenghts\n",
              "count  2651.000000\n",
              "mean     13.288570\n",
              "std       5.274154\n",
              "min       0.000000\n",
              "25%       9.000000\n",
              "50%      13.000000\n",
              "75%      17.000000\n",
              "max      28.000000"
            ],
            "text/html": [
              "\n",
              "  <div id=\"df-19907b7b-3187-4771-9f73-fe058f3ea72f\">\n",
              "    <div class=\"colab-df-container\">\n",
              "      <div>\n",
              "<style scoped>\n",
              "    .dataframe tbody tr th:only-of-type {\n",
              "        vertical-align: middle;\n",
              "    }\n",
              "\n",
              "    .dataframe tbody tr th {\n",
              "        vertical-align: top;\n",
              "    }\n",
              "\n",
              "    .dataframe thead th {\n",
              "        text-align: right;\n",
              "    }\n",
              "</style>\n",
              "<table border=\"1\" class=\"dataframe\">\n",
              "  <thead>\n",
              "    <tr style=\"text-align: right;\">\n",
              "      <th></th>\n",
              "      <th>Lenghts</th>\n",
              "    </tr>\n",
              "  </thead>\n",
              "  <tbody>\n",
              "    <tr>\n",
              "      <th>count</th>\n",
              "      <td>2651.000000</td>\n",
              "    </tr>\n",
              "    <tr>\n",
              "      <th>mean</th>\n",
              "      <td>13.288570</td>\n",
              "    </tr>\n",
              "    <tr>\n",
              "      <th>std</th>\n",
              "      <td>5.274154</td>\n",
              "    </tr>\n",
              "    <tr>\n",
              "      <th>min</th>\n",
              "      <td>0.000000</td>\n",
              "    </tr>\n",
              "    <tr>\n",
              "      <th>25%</th>\n",
              "      <td>9.000000</td>\n",
              "    </tr>\n",
              "    <tr>\n",
              "      <th>50%</th>\n",
              "      <td>13.000000</td>\n",
              "    </tr>\n",
              "    <tr>\n",
              "      <th>75%</th>\n",
              "      <td>17.000000</td>\n",
              "    </tr>\n",
              "    <tr>\n",
              "      <th>max</th>\n",
              "      <td>28.000000</td>\n",
              "    </tr>\n",
              "  </tbody>\n",
              "</table>\n",
              "</div>\n",
              "      <button class=\"colab-df-convert\" onclick=\"convertToInteractive('df-19907b7b-3187-4771-9f73-fe058f3ea72f')\"\n",
              "              title=\"Convert this dataframe to an interactive table.\"\n",
              "              style=\"display:none;\">\n",
              "        \n",
              "  <svg xmlns=\"http://www.w3.org/2000/svg\" height=\"24px\"viewBox=\"0 0 24 24\"\n",
              "       width=\"24px\">\n",
              "    <path d=\"M0 0h24v24H0V0z\" fill=\"none\"/>\n",
              "    <path d=\"M18.56 5.44l.94 2.06.94-2.06 2.06-.94-2.06-.94-.94-2.06-.94 2.06-2.06.94zm-11 1L8.5 8.5l.94-2.06 2.06-.94-2.06-.94L8.5 2.5l-.94 2.06-2.06.94zm10 10l.94 2.06.94-2.06 2.06-.94-2.06-.94-.94-2.06-.94 2.06-2.06.94z\"/><path d=\"M17.41 7.96l-1.37-1.37c-.4-.4-.92-.59-1.43-.59-.52 0-1.04.2-1.43.59L10.3 9.45l-7.72 7.72c-.78.78-.78 2.05 0 2.83L4 21.41c.39.39.9.59 1.41.59.51 0 1.02-.2 1.41-.59l7.78-7.78 2.81-2.81c.8-.78.8-2.07 0-2.86zM5.41 20L4 18.59l7.72-7.72 1.47 1.35L5.41 20z\"/>\n",
              "  </svg>\n",
              "      </button>\n",
              "      \n",
              "  <style>\n",
              "    .colab-df-container {\n",
              "      display:flex;\n",
              "      flex-wrap:wrap;\n",
              "      gap: 12px;\n",
              "    }\n",
              "\n",
              "    .colab-df-convert {\n",
              "      background-color: #E8F0FE;\n",
              "      border: none;\n",
              "      border-radius: 50%;\n",
              "      cursor: pointer;\n",
              "      display: none;\n",
              "      fill: #1967D2;\n",
              "      height: 32px;\n",
              "      padding: 0 0 0 0;\n",
              "      width: 32px;\n",
              "    }\n",
              "\n",
              "    .colab-df-convert:hover {\n",
              "      background-color: #E2EBFA;\n",
              "      box-shadow: 0px 1px 2px rgba(60, 64, 67, 0.3), 0px 1px 3px 1px rgba(60, 64, 67, 0.15);\n",
              "      fill: #174EA6;\n",
              "    }\n",
              "\n",
              "    [theme=dark] .colab-df-convert {\n",
              "      background-color: #3B4455;\n",
              "      fill: #D2E3FC;\n",
              "    }\n",
              "\n",
              "    [theme=dark] .colab-df-convert:hover {\n",
              "      background-color: #434B5C;\n",
              "      box-shadow: 0px 1px 3px 1px rgba(0, 0, 0, 0.15);\n",
              "      filter: drop-shadow(0px 1px 2px rgba(0, 0, 0, 0.3));\n",
              "      fill: #FFFFFF;\n",
              "    }\n",
              "  </style>\n",
              "\n",
              "      <script>\n",
              "        const buttonEl =\n",
              "          document.querySelector('#df-19907b7b-3187-4771-9f73-fe058f3ea72f button.colab-df-convert');\n",
              "        buttonEl.style.display =\n",
              "          google.colab.kernel.accessAllowed ? 'block' : 'none';\n",
              "\n",
              "        async function convertToInteractive(key) {\n",
              "          const element = document.querySelector('#df-19907b7b-3187-4771-9f73-fe058f3ea72f');\n",
              "          const dataTable =\n",
              "            await google.colab.kernel.invokeFunction('convertToInteractive',\n",
              "                                                     [key], {});\n",
              "          if (!dataTable) return;\n",
              "\n",
              "          const docLinkHtml = 'Like what you see? Visit the ' +\n",
              "            '<a target=\"_blank\" href=https://colab.research.google.com/notebooks/data_table.ipynb>data table notebook</a>'\n",
              "            + ' to learn more about interactive tables.';\n",
              "          element.innerHTML = '';\n",
              "          dataTable['output_type'] = 'display_data';\n",
              "          await google.colab.output.renderOutput(dataTable, element);\n",
              "          const docLink = document.createElement('div');\n",
              "          docLink.innerHTML = docLinkHtml;\n",
              "          element.appendChild(docLink);\n",
              "        }\n",
              "      </script>\n",
              "    </div>\n",
              "  </div>\n",
              "  "
            ]
          },
          "metadata": {},
          "execution_count": 10
        }
      ]
    },
    {
      "cell_type": "code",
      "source": [
        "plt.figure(figsize=(20, 5))\n",
        "_ = sns.histplot(lengths)"
      ],
      "metadata": {
        "colab": {
          "base_uri": "https://localhost:8080/",
          "height": 322
        },
        "id": "uklTukQDuryM",
        "outputId": "a468f678-a934-4031-fc33-3ffdba60644d"
      },
      "execution_count": null,
      "outputs": [
        {
          "output_type": "display_data",
          "data": {
            "text/plain": [
              "<Figure size 1440x360 with 1 Axes>"
            ],
            "image/png": "[encoded data removed]"
          },
          "metadata": {
            "needs_background": "light"
          }
        }
      ]
    },
    {
      "cell_type": "code",
      "source": [
        "max_length = 20\n",
        "trunc_type = 'post'\n",
        "padding_type = 'post'\n",
        "question_padded = pad_sequences(encoded_questions, maxlen=max_length, padding=padding_type, truncating=trunc_type)"
      ],
      "metadata": {
        "id": "wHUjcjvjuxCy"
      },
      "execution_count": null,
      "outputs": []
    },
    {
      "cell_type": "code",
      "source": [
        "labels.unique()"
      ],
      "metadata": {
        "id": "9YtSLfo-JrA_"
      },
      "execution_count": null,
      "outputs": []
    },
    {
      "cell_type": "code",
      "source": [
        "X_train, X_test, y_train, y_test = train_test_split(question_padded, labels, test_size=.1)"
      ],
      "metadata": {
        "id": "tGtCqTfgu8dC"
      },
      "execution_count": null,
      "outputs": []
    },
    {
      "cell_type": "code",
      "source": [
        "callbacks = keras.callbacks.EarlyStopping(patience=5, restore_best_weights=True)"
      ],
      "metadata": {
        "id": "V5IA6XFNu_C_"
      },
      "execution_count": null,
      "outputs": []
    },
    {
      "cell_type": "code",
      "source": [
        "embed_size = 10\n",
        "oob = 300\n",
        "model= keras.models.Sequential()\n",
        "model.add(keras.layers.Embedding(vocab_size + oob, embed_size, input_shape=[20]))\n",
        "model.add(keras.layers.GRU(8, dropout=.5))\n",
        "model.add(keras.layers.Dense(1, activation=\"sigmoid\"))\n",
        "\n",
        "model.summary()"
      ],
      "metadata": {
        "colab": {
          "base_uri": "https://localhost:8080/"
        },
        "id": "YjbM_NMyKo9m",
        "outputId": "d346a879-2e49-450d-8a75-8ba1bc7a1fde"
      },
      "execution_count": null,
      "outputs": [
        {
          "output_type": "stream",
          "name": "stdout",
          "text": [
            "Model: \"sequential_2\"\n",
            "_________________________________________________________________\n",
            " Layer (type)                Output Shape              Param #   \n",
            "=================================================================\n",
            " embedding_5 (Embedding)     (None, 20, 10)            20500     \n",
            "                                                                 \n",
            " gru_5 (GRU)                 (None, 8)                 480       \n",
            "                                                                 \n",
            " dense_4 (Dense)             (None, 1)                 9         \n",
            "                                                                 \n",
            "=================================================================\n",
            "Total params: 20,989\n",
            "Trainable params: 20,989\n",
            "Non-trainable params: 0\n",
            "_________________________________________________________________\n"
          ]
        }
      ]
    },
    {
      "cell_type": "code",
      "source": [
        "model.compile(loss='binary_crossentropy', \n",
        "                optimizer='adam',\n",
        "                metrics=['accuracy', keras.metrics.AUC()]\n",
        "                )\n",
        "history = model.fit(X_train, y_train, epochs=20, verbose=1, batch_size = 32,\n",
        "                    validation_split=0.1, callbacks = callbacks)"
      ],
      "metadata": {
        "colab": {
          "base_uri": "https://localhost:8080/"
        },
        "id": "EmcnFOM8vBeK",
        "outputId": "43a84366-47b2-441b-cc82-682cd4eefa44"
      },
      "execution_count": null,
      "outputs": [
        {
          "output_type": "stream",
          "name": "stdout",
          "text": [
            "Epoch 1/20\n",
            "68/68 [==============================] - 6s 29ms/step - loss: 0.6476 - accuracy: 0.6757 - auc_1: 0.5211 - val_loss: 0.6350 - val_accuracy: 0.6653 - val_auc_1: 0.5712\n",
            "Epoch 2/20\n",
            "68/68 [==============================] - 1s 13ms/step - loss: 0.5996 - accuracy: 0.7027 - auc_1: 0.5925 - val_loss: 0.6332 - val_accuracy: 0.6653 - val_auc_1: 0.6311\n",
            "Epoch 3/20\n",
            "68/68 [==============================] - 1s 13ms/step - loss: 0.5877 - accuracy: 0.7027 - auc_1: 0.6534 - val_loss: 0.6164 - val_accuracy: 0.6695 - val_auc_1: 0.6805\n",
            "Epoch 4/20\n",
            "68/68 [==============================] - 1s 13ms/step - loss: 0.5518 - accuracy: 0.7190 - auc_1: 0.7446 - val_loss: 0.5595 - val_accuracy: 0.7029 - val_auc_1: 0.7598\n",
            "Epoch 5/20\n",
            "68/68 [==============================] - 1s 13ms/step - loss: 0.4787 - accuracy: 0.7623 - auc_1: 0.8096 - val_loss: 0.5178 - val_accuracy: 0.7406 - val_auc_1: 0.7871\n",
            "Epoch 6/20\n",
            "68/68 [==============================] - 1s 13ms/step - loss: 0.4314 - accuracy: 0.7978 - auc_1: 0.8589 - val_loss: 0.4996 - val_accuracy: 0.7531 - val_auc_1: 0.8096\n",
            "Epoch 7/20\n",
            "68/68 [==============================] - 1s 13ms/step - loss: 0.4037 - accuracy: 0.8117 - auc_1: 0.8745 - val_loss: 0.4811 - val_accuracy: 0.7741 - val_auc_1: 0.8303\n",
            "Epoch 8/20\n",
            "68/68 [==============================] - 1s 13ms/step - loss: 0.3768 - accuracy: 0.8215 - auc_1: 0.8949 - val_loss: 0.4703 - val_accuracy: 0.7782 - val_auc_1: 0.8374\n",
            "Epoch 9/20\n",
            "68/68 [==============================] - 1s 13ms/step - loss: 0.3603 - accuracy: 0.8327 - auc_1: 0.9041 - val_loss: 0.4613 - val_accuracy: 0.7741 - val_auc_1: 0.8422\n",
            "Epoch 10/20\n",
            "68/68 [==============================] - 1s 13ms/step - loss: 0.3395 - accuracy: 0.8514 - auc_1: 0.9143 - val_loss: 0.4519 - val_accuracy: 0.7992 - val_auc_1: 0.8465\n",
            "Epoch 11/20\n",
            "68/68 [==============================] - 1s 13ms/step - loss: 0.3245 - accuracy: 0.8560 - auc_1: 0.9233 - val_loss: 0.4461 - val_accuracy: 0.7908 - val_auc_1: 0.8510\n",
            "Epoch 12/20\n",
            "68/68 [==============================] - 1s 13ms/step - loss: 0.3161 - accuracy: 0.8639 - auc_1: 0.9255 - val_loss: 0.4421 - val_accuracy: 0.8117 - val_auc_1: 0.8503\n",
            "Epoch 13/20\n",
            "68/68 [==============================] - 1s 13ms/step - loss: 0.3054 - accuracy: 0.8649 - auc_1: 0.9303 - val_loss: 0.4353 - val_accuracy: 0.7950 - val_auc_1: 0.8568\n",
            "Epoch 14/20\n",
            "68/68 [==============================] - 1s 13ms/step - loss: 0.3037 - accuracy: 0.8621 - auc_1: 0.9335 - val_loss: 0.4525 - val_accuracy: 0.7950 - val_auc_1: 0.8575\n",
            "Epoch 15/20\n",
            "68/68 [==============================] - 1s 12ms/step - loss: 0.2888 - accuracy: 0.8816 - auc_1: 0.9379 - val_loss: 0.4456 - val_accuracy: 0.8075 - val_auc_1: 0.8643\n",
            "Epoch 16/20\n",
            "68/68 [==============================] - 1s 13ms/step - loss: 0.2786 - accuracy: 0.8840 - auc_1: 0.9415 - val_loss: 0.4532 - val_accuracy: 0.7908 - val_auc_1: 0.8591\n",
            "Epoch 17/20\n",
            "68/68 [==============================] - 1s 12ms/step - loss: 0.2884 - accuracy: 0.8816 - auc_1: 0.9380 - val_loss: 0.4659 - val_accuracy: 0.7908 - val_auc_1: 0.8628\n",
            "Epoch 18/20\n",
            "68/68 [==============================] - 1s 13ms/step - loss: 0.2712 - accuracy: 0.8896 - auc_1: 0.9455 - val_loss: 0.4362 - val_accuracy: 0.8201 - val_auc_1: 0.8679\n"
          ]
        }
      ]
    },
    {
      "cell_type": "code",
      "source": [
        "pd.DataFrame(history.history).plot(figsize=(18, 5))\n",
        "plt.grid(True)\n",
        "plt.gca().set_ylim(0, 1) # set the vertical range to [0-1]\n",
        "plt.show()"
      ],
      "metadata": {
        "id": "Q8UjJqeZvEwb",
        "colab": {
          "base_uri": "https://localhost:8080/",
          "height": 324
        },
        "outputId": "1b2625b6-4619-4988-c3d1-ae6d04d9f478"
      },
      "execution_count": null,
      "outputs": [
        {
          "output_type": "display_data",
          "data": {
            "text/plain": [
              "<Figure size 1296x360 with 1 Axes>"
            ],
            "image/png": "[encoded data removed]"
          },
          "metadata": {
            "needs_background": "light"
          }
        }
      ]
    },
    {
      "cell_type": "code",
      "source": [
        ""
      ],
      "metadata": {
        "id": "GqqDUcoqMjtQ"
      },
      "execution_count": null,
      "outputs": []
    }
  ]
}