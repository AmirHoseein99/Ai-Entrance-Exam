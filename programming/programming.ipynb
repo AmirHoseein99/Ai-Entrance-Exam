{
  "nbformat": 4,
  "nbformat_minor": 0,
  "metadata": {
    "colab": {
      "name": "ai-entrance-exam-programming.ipynb",
      "provenance": [],
      "collapsed_sections": [],
      "authorship_tag": "ABX9TyNIu4LSkUzF95Ql6fmjRYrx",
      "include_colab_link": true
    },
    "kernelspec": {
      "name": "python3",
      "display_name": "Python 3"
    },
    "language_info": {
      "name": "python"
    }
  },
  "cells": [
    {
      "cell_type": "markdown",
      "metadata": {
        "id": "view-in-github",
        "colab_type": "text"
      },
      "source": [
        "<a href=\"https://colab.research.google.com/github/AmirHoseein99/Ai-Entrance-Exam/blob/master/programming/programming.ipynb\" target=\"_parent\"><img src=\"https://colab.research.google.com/assets/colab-badge.svg\" alt=\"Open In Colab\"/></a>"
      ]
    },
    {
      "cell_type": "code",
      "execution_count": null,
      "metadata": {
        "id": "HM8RKD17e7yk"
      },
      "outputs": [],
      "source": [
        "! wget \"https://raw.githubusercontent.com/ishan-open/ai-entrance-exam/main/programming/input.txt\""
      ]
    },
    {
      "cell_type": "code",
      "source": [
        "! pip install hazm"
      ],
      "metadata": {
        "id": "fjSVnNYxgV5F"
      },
      "execution_count": null,
      "outputs": []
    },
    {
      "cell_type": "code",
      "source": [
        "import numpy as np\n",
        "import pandas as pd\n",
        "from hazm import Normalizer"
      ],
      "metadata": {
        "id": "3Y6Pg-SRfRXx"
      },
      "execution_count": 16,
      "outputs": []
    },
    {
      "cell_type": "code",
      "source": [
        "with open(\"/content/input.txt\") as file :\n",
        "  text = file.read()\n",
        "sentences = (text.split(\".\"))\n",
        "sentences"
      ],
      "metadata": {
        "colab": {
          "base_uri": "https://localhost:8080/"
        },
        "id": "Qk0K1mOif1pg",
        "outputId": "f13e7c93-d9a8-4559-c3be-fec66d980309"
      },
      "execution_count": 13,
      "outputs": [
        {
          "output_type": "execute_result",
          "data": {
            "text/plain": [
              "['این یک فایل متنی نمونه است که برای مسئله برنامه نویسی تولید شده است و هیچ کارکرد دیگری ندارد',\n",
              " '\\nطبیعتا کدی که برای پردازش این فایل می نویسید نباید جمله بندی فایل را بهم بریزد و تنها مواردی که ذکر شده است را باید تغییر بدهد',\n",
              " '\\nاز این موارد می توانیم به حَذْفْ اِعْرآب وَ کآراکتِرْ های غيرِ مُجازْ اِشاره کُنیمْ، البته نباید فراموش کرد که ',\n",
              " ' و ، هم جزو کاراکتر های غیر مجاز محسوب می شوند',\n",
              " '\\nاز سایر موارد میتوان به تبدیل اعدادی که با رقم نوشته شده اند به حروف یاد کرد، به عنوان مثال عدد ۱۲۳۰۰۰ باید به صورت صد و بیست و سه هزار نوشته شود هرچند که نیازی نیست عدد دو میلیون و نود و سه هزار و پانصد و سی و یک بصورت ۲۰۹۰۵۳۱ نوشته شود',\n",
              " '\\nدر نهایت موراد موجود از كاراكتر هاي عربي که احتمالا کم ةم نیستند باید به معدل هاي فارسي آنها که در صورت مسئله بة آن اشارة شدة تبديل شوند',\n",
              " '\\n']"
            ]
          },
          "metadata": {},
          "execution_count": 13
        }
      ]
    },
    {
      "cell_type": "markdown",
      "source": [
        "# تبدیل اعداد به حروف"
      ],
      "metadata": {
        "id": "SvIRkDMTrZBk"
      }
    },
    {
      "cell_type": "code",
      "source": [
        "! pip install unidecode\n",
        "! pip install num2fawords\n",
        "from unidecode import unidecode\n",
        "from num2fawords import words, ordinal_words"
      ],
      "metadata": {
        "id": "veMEE37lnAX2"
      },
      "execution_count": null,
      "outputs": []
    },
    {
      "cell_type": "code",
      "source": [
        "def numbers_to_words(sentence):\n",
        "  sent_words = sentence.split(\" \")\n",
        "  for i, word in enumerate(sent_words) :\n",
        "    try:\n",
        "        nubmer = unidecode(word)\n",
        "        num_word = words(nubmer)\n",
        "        sent_words[i] = num_word\n",
        "    except:\n",
        "      pass\n",
        "  final_sent = ' '.join(sent_words)\n",
        "  return final_sent\n",
        "\n",
        "  \n",
        "final_sentences = list(map(numbers_to_words, sentences))\n",
        "with open('output.txt', 'w') as f:\n",
        "    for item in final_sentences:\n",
        "        f.write(\"%s\\n\" % item)"
      ],
      "metadata": {
        "id": "wftO90oQnx4w"
      },
      "execution_count": 8,
      "outputs": []
    },
    {
      "cell_type": "markdown",
      "source": [
        "# حذف جملات با طول بیشتر از 50 و کتر از 10"
      ],
      "metadata": {
        "id": "HICLnV14mmdQ"
      }
    },
    {
      "cell_type": "code",
      "source": [
        "def len_check (sent):\n",
        "  if len(sent.split(\" \")) < 10 or len(sent.split(\" \")) > 50:\n",
        "    return \n",
        "  else :\n",
        "    return sent\n",
        "\n",
        "\n",
        "final_sentences = list(map(len_check, sentences))\n",
        "final_sentences = list(filter(None, final_sentences))\n",
        "with open('output.txt', 'w') as f:\n",
        "    for item in final_sentences:\n",
        "        f.write(\"%s\\n\" % item)\n"
      ],
      "metadata": {
        "id": "CLtmDFWMjj90"
      },
      "execution_count": 14,
      "outputs": []
    },
    {
      "cell_type": "code",
      "source": [
        ""
      ],
      "metadata": {
        "id": "-CweUtiGBtSm"
      },
      "execution_count": null,
      "outputs": []
    }
  ]
}