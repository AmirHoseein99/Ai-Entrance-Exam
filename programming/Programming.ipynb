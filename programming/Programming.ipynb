{
  "nbformat": 4,
  "nbformat_minor": 0,
  "metadata": {
    "colab": {
      "name": "ai-entrance-exam-programming.ipynb",
      "provenance": [],
      "collapsed_sections": [],
      "authorship_tag": "ABX9TyPzoDIjarwboFouQUTZ1MCp",
      "include_colab_link": true
    },
    "kernelspec": {
      "name": "python3",
      "display_name": "Python 3"
    },
    "language_info": {
      "name": "python"
    }
  },
  "cells": [
    {
      "cell_type": "markdown",
      "metadata": {
        "id": "view-in-github",
        "colab_type": "text"
      },
      "source": [
        "<a href=\"https://colab.research.google.com/github/AmirHoseein99/Ai-Entrance-Exam/blob/master/programming/Programming.ipynb\" target=\"_parent\"><img src=\"https://colab.research.google.com/assets/colab-badge.svg\" alt=\"Open In Colab\"/></a>"
      ]
    },
    {
      "cell_type": "code",
      "execution_count": null,
      "metadata": {
        "id": "HM8RKD17e7yk"
      },
      "outputs": [],
      "source": [
        "! wget \"https://raw.githubusercontent.com/ishan-open/ai-entrance-exam/main/programming/input.txt\""
      ]
    },
    {
      "cell_type": "code",
      "source": [
        "! pip install hazm"
      ],
      "metadata": {
        "id": "fjSVnNYxgV5F"
      },
      "execution_count": null,
      "outputs": []
    },
    {
      "cell_type": "code",
      "source": [
        "import numpy as np\n",
        "import pandas as pd"
      ],
      "metadata": {
        "id": "3Y6Pg-SRfRXx"
      },
      "execution_count": null,
      "outputs": []
    },
    {
      "cell_type": "code",
      "source": [
        "with open(\"/content/input.txt\") as file :\n",
        "  text = file.read()\n",
        "sentences = (text.split(\".\"))\n",
        "sentences"
      ],
      "metadata": {
        "colab": {
          "base_uri": "https://localhost:8080/"
        },
        "id": "Qk0K1mOif1pg",
        "outputId": "f3a50c75-9828-454c-c3c3-ff1eea0c3a5b"
      },
      "execution_count": null,
      "outputs": [
        {
          "output_type": "execute_result",
          "data": {
            "text/plain": [
              "['این یک فایل متنی نمونه است که برای مسئله برنامه نویسی تولید شده است و هیچ کارکرد دیگری ندارد',\n",
              " '\\nطبیعتا کدی که برای پردازش این فایل می نویسید نباید جمله بندی فایل را بهم بریزد و تنها مواردی که ذکر شده است را باید تغییر بدهد',\n",
              " '\\nاز این موارد می توانیم به حَذْفْ اِعْرآب وَ کآراکتِرْ های غيرِ مُجازْ اِشاره کُنیمْ، البته نباید فراموش کرد که ',\n",
              " ' و ، هم جزو کاراکتر های غیر مجاز محسوب می شوند',\n",
              " '\\nاز سایر موارد میتوان به تبدیل اعدادی که با رقم نوشته شده اند به حروف یاد کرد، به عنوان مثال عدد ۱۲۳۰۰۰ باید به صورت صد و بیست و سه هزار نوشته شود هرچند که نیازی نیست عدد دو میلیون و نود و سه هزار و پانصد و سی و یک بصورت ۲۰۹۰۵۳۱ نوشته شود',\n",
              " '\\nدر نهایت موراد موجود از كاراكتر هاي عربي که احتمالا کم ةم نیستند باید به معدل هاي فارسي آنها که در صورت مسئله بة آن اشارة شدة تبديل شوند',\n",
              " '\\n']"
            ]
          },
          "metadata": {},
          "execution_count": 126
        }
      ]
    },
    {
      "cell_type": "code",
      "source": [
        "sentences[2]"
      ],
      "metadata": {
        "colab": {
          "base_uri": "https://localhost:8080/",
          "height": 35
        },
        "id": "R0RI5wxhsD__",
        "outputId": "b3a04519-d69b-4e78-b5e6-7bc3b5d99725"
      },
      "execution_count": null,
      "outputs": [
        {
          "output_type": "execute_result",
          "data": {
            "text/plain": [
              "'\\nاز این موارد می توانیم به حَذْفْ اِعْرآب وَ کآراکتِرْ های غيرِ مُجازْ اِشاره کُنیمْ، البته نباید فراموش کرد که '"
            ],
            "application/vnd.google.colaboratory.intrinsic+json": {
              "type": "string"
            }
          },
          "metadata": {},
          "execution_count": 127
        }
      ]
    },
    {
      "cell_type": "code",
      "source": [
        "import re\n",
        "re.sub('^[ آابپتثجچحخدذرزژسشصضطظعغفقکگلمنوهی]+$', \"\", sentences[2])"
      ],
      "metadata": {
        "colab": {
          "base_uri": "https://localhost:8080/",
          "height": 35
        },
        "id": "VJc8Q3i-r3-I",
        "outputId": "bfe6bb79-e58c-4e1e-a216-6b6ca9a865e3"
      },
      "execution_count": null,
      "outputs": [
        {
          "output_type": "execute_result",
          "data": {
            "text/plain": [
              "'\\nاز این موارد می توانیم به حَذْفْ اِعْرآب وَ کآراکتِرْ های غيرِ مُجازْ اِشاره کُنیمْ، البته نباید فراموش کرد که '"
            ],
            "application/vnd.google.colaboratory.intrinsic+json": {
              "type": "string"
            }
          },
          "metadata": {},
          "execution_count": 129
        }
      ]
    },
    {
      "cell_type": "code",
      "source": [
        ""
      ],
      "metadata": {
        "id": "kuR9jUYMr362"
      },
      "execution_count": null,
      "outputs": []
    },
    {
      "cell_type": "code",
      "source": [
        ""
      ],
      "metadata": {
        "id": "c2wx38EMr34d"
      },
      "execution_count": null,
      "outputs": []
    },
    {
      "cell_type": "code",
      "source": [
        ""
      ],
      "metadata": {
        "id": "T4QTdIctr31g"
      },
      "execution_count": null,
      "outputs": []
    },
    {
      "cell_type": "code",
      "source": [
        ""
      ],
      "metadata": {
        "id": "bU9WsUZnr3wV"
      },
      "execution_count": null,
      "outputs": []
    },
    {
      "cell_type": "markdown",
      "source": [
        "# تبدیل اعداد به حروف"
      ],
      "metadata": {
        "id": "SvIRkDMTrZBk"
      }
    },
    {
      "cell_type": "code",
      "source": [
        "! pip install unidecode\n",
        "! pip install num2fawords\n",
        "from unidecode import unidecode\n",
        "from num2fawords import words, ordinal_words"
      ],
      "metadata": {
        "id": "veMEE37lnAX2"
      },
      "execution_count": null,
      "outputs": []
    },
    {
      "cell_type": "code",
      "source": [
        "def numbers_to_words(sentence):\n",
        "  sent_words = sentence.split(\" \")\n",
        "  for i, word in enumerate(sent_words) :\n",
        "    try:\n",
        "        nubmer = unidecode(word)\n",
        "        num_word = words(nubmer)\n",
        "        sent_words[i] = num_word\n",
        "    except:\n",
        "      pass\n",
        "  final_sent = ' '.join(sent_words)\n",
        "  return final_sent"
      ],
      "metadata": {
        "id": "wftO90oQnx4w"
      },
      "execution_count": null,
      "outputs": []
    },
    {
      "cell_type": "code",
      "source": [
        "numbers_to_words(sentences[4])"
      ],
      "metadata": {
        "colab": {
          "base_uri": "https://localhost:8080/",
          "height": 53
        },
        "id": "5oFukTHcnVQX",
        "outputId": "5c4fe970-67fd-40bf-f8db-c84f80d7fed7"
      },
      "execution_count": null,
      "outputs": [
        {
          "output_type": "execute_result",
          "data": {
            "text/plain": [
              "'\\nاز سایر موارد میتوان به تبدیل اعدادی که با رقم نوشته شده اند به حروف یاد کرد، به عنوان مثال عدد یکصد و بیست و سه هزار باید به صورت صد و بیست و سه هزار نوشته شود هرچند که نیازی نیست عدد دو میلیون و نود و سه هزار و پانصد و سی و یک بصورت دو میلیون و نود هزار و پانصد و سی و یک نوشته شود'"
            ],
            "application/vnd.google.colaboratory.intrinsic+json": {
              "type": "string"
            }
          },
          "metadata": {},
          "execution_count": 125
        }
      ]
    },
    {
      "cell_type": "markdown",
      "source": [
        "# حذف جملات با طول بیشتر از 50 و کتر از 10"
      ],
      "metadata": {
        "id": "HICLnV14mmdQ"
      }
    },
    {
      "cell_type": "code",
      "source": [
        "def len_check (sent):\n",
        "  if len(sent.split(\" \")) < 10 or len(sent.split(\" \")) > 50:\n",
        "    return \n",
        "  else :\n",
        "    return sent\n",
        "\n",
        "\n",
        "sentences = list(map(len_check, sentences))\n",
        "\n",
        "\n",
        "sentences.remove(None)\n",
        "sentences"
      ],
      "metadata": {
        "id": "CLtmDFWMjj90"
      },
      "execution_count": null,
      "outputs": []
    }
  ]
}